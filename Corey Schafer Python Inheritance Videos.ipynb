{
 "cells": [
  {
   "cell_type": "code",
   "execution_count": 1,
   "id": "8d5679ba",
   "metadata": {},
   "outputs": [
    {
     "ename": "SyntaxError",
     "evalue": "invalid decimal literal (<ipython-input-1-24349daa76f5>, line 3)",
     "output_type": "error",
     "traceback": [
      "\u001b[0;36m  File \u001b[0;32m\"<ipython-input-1-24349daa76f5>\"\u001b[0;36m, line \u001b[0;32m3\u001b[0m\n\u001b[0;31m    print(1/0_)\u001b[0m\n\u001b[0m             ^\u001b[0m\n\u001b[0;31mSyntaxError\u001b[0m\u001b[0;31m:\u001b[0m invalid decimal literal\n"
     ]
    }
   ],
   "source": [
    "#Code\n",
    "try:\n",
    "    print(1/0_)\n",
    "except ZeroDivisionError as e:\n",
    "    print\"Error Code:\",e"
   ]
  },
  {
   "cell_type": "code",
   "execution_count": null,
   "id": "9db018e8",
   "metadata": {},
   "outputs": [],
   "source": [
    "# Enter your code here. Read input from STDIN. Print output to STDOUT\n",
    "def division(a,b):\n",
    "    try:\n",
    "        print(\"Attempt division\")\n",
    "        a/b\n",
    "    except:\n",
    "        if b = 0:\n",
    "            print(\"Error Code: integer division or modulo by zero\")\n",
    "        else:\n",
    "            print(\"Error Code: invalid literal for int() with base 10:\")\n",
    "    else: print(a/b)\n",
    "    finally: print(\"Did we divide correctly?\")\n",
    "        "
   ]
  },
  {
   "cell_type": "code",
   "execution_count": null,
   "id": "cec0c32a",
   "metadata": {},
   "outputs": [],
   "source": [
    "# Enter your code here. Read input from STDIN. Print output to STDOUT\n",
    "def division(a,b):\n",
    "    try:\n",
    "        print(\"Attempt division\")\n",
    "        a/b\n",
    "    except:\n",
    "        if b == 0:\n",
    "            print(\"Error Code: integer division or modulo by zero\")\n",
    "        else:\n",
    "            print(\"Error Code: invalid literal for int() with base 10:\")\n",
    "    else: print(a/b)\n",
    "    finally: print(\"Did we divide correctly?\")\n",
    "\n",
    "division(1, 0)\n",
    "        "
   ]
  },
  {
   "cell_type": "code",
   "execution_count": 2,
   "id": "a8c7e9cc",
   "metadata": {},
   "outputs": [
    {
     "name": "stdout",
     "output_type": "stream",
     "text": [
      "Attempt division\n",
      "Error Code: invalid literal for int() with base 10:\n",
      "Did we divide correctly?\n"
     ]
    }
   ],
   "source": [
    "def division(a,b):\n",
    "    try:\n",
    "        print(\"Attempt division\")\n",
    "        a/b\n",
    "    except:\n",
    "        if b == 0:\n",
    "            print(\"Error Code: integer division or modulo by zero\")\n",
    "        else:\n",
    "            print(\"Error Code: invalid literal for int() with base 10:\")\n",
    "    else: print(a/b)\n",
    "    finally: print(\"Did we divide correctly?\")\n",
    "\n",
    "division(1, '$')"
   ]
  },
  {
   "cell_type": "code",
   "execution_count": 3,
   "id": "c681365b",
   "metadata": {},
   "outputs": [
    {
     "name": "stdout",
     "output_type": "stream",
     "text": [
      "8\n"
     ]
    }
   ],
   "source": [
    "array1 = [2, 3, 8, 10, 11, 19]\n",
    "print(array1[2])"
   ]
  },
  {
   "cell_type": "code",
   "execution_count": 4,
   "id": "d1d50efc",
   "metadata": {},
   "outputs": [],
   "source": [
    "array1 = [2, 3, 8, 10, 11, 19]\n",
    "\n",
    "def test_array1(c):\n",
    "    try:\n",
    "        print(\"Can I access this index?\")\n",
    "        print(array1[c])\n",
    "    except: \n",
    "        print(\"Runtime error: Invalid Index\")"
   ]
  },
  {
   "cell_type": "code",
   "execution_count": null,
   "id": "115a856d",
   "metadata": {},
   "outputs": [],
   "source": [
    "from itertools import permutations\n",
    "\n",
    "def lexicon():\n",
    "    S = input(\"This string will be all caps: \")\n",
    "    S = S.upper()\n",
    "    S_list = []\n",
    "    S_list[:0] = S\n",
    "    S_list = sorted(S_list)\n",
    "    k = int(input(\"Size of permutation:\" ))\n",
    "    if len(S_list) < k | k < 0:\n",
    "        print(\"Invalid lexicon. Adjust permutation size.\")\n",
    "    else: \n",
    "        print(list(permutations(S_list,k)))\n",
    "    \n",
    "\n",
    "lexicon()"
   ]
  },
  {
   "cell_type": "code",
   "execution_count": null,
   "id": "ab7aa062",
   "metadata": {},
   "outputs": [],
   "source": [
    "class Employee:\n",
    "    \n",
    "    def __init__(self, first, last, pay):\n",
    "        self.first = first\n",
    "        self.last = last\n",
    "        self.pay = pay\n",
    "        self.email = first + '.' + last + '@company.com'\n",
    "    \n",
    "    def fullname(self):\n",
    "        return '{} {}'.format(self.first, self.last)\n",
    "\n",
    "emp_1 = Employee('Corey', 'Schafer', 50000)\n",
    "emp_2 = Employee('Test', 'User', 60000)\n",
    "\n",
    "#print(emp_2.fullname())\n",
    "\n",
    "emp_1.fullname()\n",
    "Employee.fullname(emp_1)\n",
    "\n",
    "#print(emp_1.email)\n",
    "#print(emp_2.email)\n",
    "\n",
    "#print(emp_1.fullname())\n"
   ]
  },
  {
   "cell_type": "code",
   "execution_count": null,
   "id": "f8e5a29b",
   "metadata": {},
   "outputs": [],
   "source": [
    "class Employee:\n",
    "    \n",
    "    raise_amount = 1.04\n",
    "    num_of_emps = 0\n",
    "    \n",
    "    def __init__(self, first, last, pay):\n",
    "        self.first = first\n",
    "        self.last = last\n",
    "        self.pay = pay\n",
    "        self.email = first + '.' + last + '@company.com'\n",
    "        \n",
    "        Employee.num_of_emps += 1\n",
    "    \n",
    "    def fullname(self):\n",
    "        return '{} {}'.format(self.first, self.last)\n",
    "    \n",
    "    def apply_raise(self):\n",
    "        self.pay = int(self.pay * self.raise_amount)\n",
    "\n",
    "emp_1 = Employee('Corey', 'Schafer', 50000)\n",
    "emp_2 = Employee('Test', 'User', 60000)\n",
    "\n",
    "emp_1.raise_amount = 1.05\n",
    "\n",
    "print(Employee.raise_amount)\n",
    "print(emp_1.raise_amount)\n",
    "print(emp_2.raise_amount)\n",
    "\n",
    "print(Employee.num_of_emps)\n",
    "\n",
    "#emp_1.raise_amount\n",
    "#Employee.raise_amount\n",
    "\n"
   ]
  },
  {
   "cell_type": "code",
   "execution_count": 5,
   "id": "bbecbe1c",
   "metadata": {},
   "outputs": [
    {
     "name": "stdout",
     "output_type": "stream",
     "text": [
      "1.05\n",
      "1.05\n",
      "1.05\n"
     ]
    }
   ],
   "source": [
    "class Employee:\n",
    "    \n",
    "    raise_amt = 1.04\n",
    "    num_of_emps = 0\n",
    "    \n",
    "    def __init__(self, first, last, pay):\n",
    "        self.first = first\n",
    "        self.last = last\n",
    "        self.pay = pay\n",
    "        self.email = first + '.' + last + '@company.com'\n",
    "        \n",
    "        Employee.num_of_emps += 1\n",
    "    \n",
    "    def fullname(self):\n",
    "        return '{} {}'.format(self.first, self.last)\n",
    "    \n",
    "    def apply_raise(self):\n",
    "        self.pay = int(self.pay * self.raise_amount)\n",
    "    \n",
    "    @classmethod\n",
    "    def set_raise_amt(cls, amount):\n",
    "        cls.raise_amt = amount\n",
    "\n",
    "emp_1 = Employee('Corey', 'Schafer', 50000)\n",
    "emp_2 = Employee('Test', 'User', 60000)\n",
    "\n",
    "Employee.set_raise_amt(1.05)\n",
    "\n",
    "print(Employee.raise_amt)\n",
    "print(emp_1.raise_amt)\n",
    "print(emp_2.raise_amt)\n"
   ]
  },
  {
   "cell_type": "code",
   "execution_count": 13,
   "id": "e3d5d633",
   "metadata": {},
   "outputs": [
    {
     "name": "stdout",
     "output_type": "stream",
     "text": [
      "John.Doe@company.com\n",
      "70000\n",
      "True\n"
     ]
    }
   ],
   "source": [
    "class Employee:\n",
    "    \n",
    "    raise_amt = 1.04\n",
    "    num_of_emps = 0\n",
    "    \n",
    "    def __init__(self, first, last, pay):\n",
    "        self.first = first\n",
    "        self.last = last\n",
    "        self.pay = pay\n",
    "        self.email = first + '.' + last + '@company.com'\n",
    "        \n",
    "        Employee.num_of_emps += 1\n",
    "    \n",
    "    def fullname(self):\n",
    "        return '{} {}'.format(self.first, self.last)\n",
    "    \n",
    "    def apply_raise(self):\n",
    "        self.pay = int(self.pay * self.raise_amount)\n",
    "    \n",
    "    @classmethod\n",
    "    def set_raise_amt(cls, amount):\n",
    "        cls.raise_amt = amount\n",
    "    \n",
    "    @classmethod\n",
    "    def from_string(cls, emp_str):\n",
    "        first, last, pay = emp_str_1.split('-')\n",
    "        return cls(first, last, pay)\n",
    "    \n",
    "    @staticmethod\n",
    "    def is_workday(day):\n",
    "        if day.weekday() == 5 or day.weekday() == 6:\n",
    "            return False\n",
    "        return True\n",
    "\n",
    "emp_1 = Employee('Corey', 'Schafer', 50000)\n",
    "emp_2 = Employee('Test', 'User', 60000)\n",
    "\n",
    "emp_str_1 = 'John-Doe-70000'\n",
    "emp_str_2 = 'Steve-Smith0-30000'\n",
    "emp_str_3 = 'Jane-Doe-90000'\n",
    "\n",
    "new_emp_1 = Employee.from_string(emp_str_1)\n",
    "\n",
    "\n",
    "print(new_emp_1.email)\n",
    "print(new_emp_1.pay)\n",
    "\n",
    "\n",
    "import datetime\n",
    "my_date = datetime.date(2021, 12, 2)\n",
    "\n",
    "print(Employee.is_workday(my_date))"
   ]
  },
  {
   "cell_type": "code",
   "execution_count": 11,
   "id": "e75dfb96",
   "metadata": {},
   "outputs": [],
   "source": [
    "#Date/Time constructor\n",
    "@classmethod\n",
    "def fromtimestamp(cls, t):\n",
    "        y, m, d, hh, mm, ss, weekday, jday, dst = _time.localtime()\n",
    "        return cls(y,m,d)"
   ]
  },
  {
   "cell_type": "code",
   "execution_count": 28,
   "id": "e12fb41d",
   "metadata": {},
   "outputs": [
    {
     "name": "stdout",
     "output_type": "stream",
     "text": [
      "Sue.Smith@company.com\n",
      "--> Corey Schafer\n"
     ]
    }
   ],
   "source": [
    "class Employee:\n",
    "    \n",
    "    raise_amt = 1.04\n",
    "    \n",
    "    def __init__(self, first, last, pay):\n",
    "        self.first = first\n",
    "        self.last = last\n",
    "        self.pay = pay\n",
    "        self.email = first + '.' + last + '@company.com'\n",
    "        \n",
    "    \n",
    "    def fullname(self):\n",
    "        return '{} {}'.format(self.first, self.last)\n",
    "    \n",
    "    def apply_raise(self):\n",
    "        self.pay = int(self.pay * self.raise_amt)\n",
    "        \n",
    "class Developer(Employee):\n",
    "    raise_amt = 1.10\n",
    "    \n",
    "    def __init__(self, first, last, pay, prog_lang):\n",
    "        super().__init__(first, last, pay)\n",
    "        self.prog_lang = prog_lang\n",
    "       \n",
    "\n",
    "            \n",
    "class Manager(Employee):\n",
    "    raise_amt = 1.10\n",
    "    \n",
    "    def __init__(self, first, last, pay, employees=None):\n",
    "        super().__init__(first, last, pay)\n",
    "        if employees is None:\n",
    "            self.employees = []\n",
    "        else:\n",
    "            self.employees = employees\n",
    "    \n",
    "    def add_emp(self,emp):\n",
    "        if emp not in self.employees:\n",
    "            self.employees.append(emp)\n",
    "    \n",
    "    def add_emp(self,emp):\n",
    "        if emp in self.employees:\n",
    "            self.employees.remove(emp)\n",
    "            \n",
    "    def print_emps(self):\n",
    "        for emp in self.employees:\n",
    "            print('-->', emp.fullname())\n",
    "            \n",
    "            \n",
    "            \n",
    "dev_1 = Developer('Corey', 'Schafer', 50000, 'Python')\n",
    "dev_2 = Developer('Test', 'User', 60000, 'Java')\n",
    "\n",
    "mgr_1 = Manager('Sue', 'Smith', 90000, [dev_1])\n",
    "\n",
    "print(mgr_1.email)\n",
    "\n",
    "mgr_1.print_emps()\n",
    "\n",
    "#print(dev_1.email)\n",
    "#print(dev_1.prog_lang)\n",
    "#print(dev_1.pay)\n",
    "#dev_1.apply_raise()\n",
    "#print(dev_1.pay)\n"
   ]
  },
  {
   "cell_type": "code",
   "execution_count": null,
   "id": "2d2014c4",
   "metadata": {},
   "outputs": [],
   "source": [
    "#start part 5 here"
   ]
  }
 ],
 "metadata": {
  "kernelspec": {
   "display_name": "Python 3",
   "language": "python",
   "name": "python3"
  },
  "language_info": {
   "codemirror_mode": {
    "name": "ipython",
    "version": 3
   },
   "file_extension": ".py",
   "mimetype": "text/x-python",
   "name": "python",
   "nbconvert_exporter": "python",
   "pygments_lexer": "ipython3",
   "version": "3.8.8"
  }
 },
 "nbformat": 4,
 "nbformat_minor": 5
}
